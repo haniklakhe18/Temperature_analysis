{
  "cells": [
    {
      "cell_type": "markdown",
      "metadata": {
        "id": "view-in-github",
        "colab_type": "text"
      },
      "source": [
        "<a href=\"https://colab.research.google.com/github/haniklakhe18/Temperature_analysis/blob/main/2_Ensemble_database_preparation.ipynb\" target=\"_parent\"><img src=\"https://colab.research.google.com/assets/colab-badge.svg\" alt=\"Open In Colab\"/></a>"
      ]
    },
    {
      "cell_type": "code",
      "execution_count": null,
      "metadata": {
        "colab": {
          "base_uri": "https://localhost:8080/"
        },
        "id": "VqivH9FL3dpe",
        "outputId": "8d4a039c-32ce-449e-e772-39f7bcb6b9ea"
      },
      "outputs": [
        {
          "output_type": "stream",
          "name": "stdout",
          "text": [
            "Mounted at /content/drive\n"
          ]
        }
      ],
      "source": [
        "from google.colab import drive\n",
        "drive.mount('/content/drive')"
      ]
    },
    {
      "cell_type": "code",
      "execution_count": null,
      "metadata": {
        "colab": {
          "base_uri": "https://localhost:8080/"
        },
        "id": "sVCvl6jc9YQ3",
        "outputId": "f6294af9-1351-4cae-c46d-fedec08c3b63"
      },
      "outputs": [
        {
          "output_type": "stream",
          "name": "stdout",
          "text": [
            "/content/drive/.shortcut-targets-by-id/1BBkjA5D9rIVQl4WqjLSgE0LYjPK4dPfq/Indices/Ensemble\n"
          ]
        }
      ],
      "source": [
        "%cd '/content/drive/My Drive/Indices/Ensemble'"
      ]
    },
    {
      "cell_type": "code",
      "execution_count": null,
      "metadata": {
        "colab": {
          "base_uri": "https://localhost:8080/"
        },
        "id": "dniElcJA3fbU",
        "outputId": "47690850-9920-471d-fc20-9b72f2e129c8"
      },
      "outputs": [
        {
          "output_type": "stream",
          "name": "stdout",
          "text": [
            "Requirement already satisfied: geopandas in /usr/local/lib/python3.10/dist-packages (0.13.2)\n",
            "Requirement already satisfied: fiona>=1.8.19 in /usr/local/lib/python3.10/dist-packages (from geopandas) (1.9.4.post1)\n",
            "Requirement already satisfied: packaging in /usr/local/lib/python3.10/dist-packages (from geopandas) (23.1)\n",
            "Requirement already satisfied: pandas>=1.1.0 in /usr/local/lib/python3.10/dist-packages (from geopandas) (1.5.3)\n",
            "Requirement already satisfied: pyproj>=3.0.1 in /usr/local/lib/python3.10/dist-packages (from geopandas) (3.6.0)\n",
            "Requirement already satisfied: shapely>=1.7.1 in /usr/local/lib/python3.10/dist-packages (from geopandas) (2.0.1)\n",
            "Requirement already satisfied: attrs>=19.2.0 in /usr/local/lib/python3.10/dist-packages (from fiona>=1.8.19->geopandas) (23.1.0)\n",
            "Requirement already satisfied: certifi in /usr/local/lib/python3.10/dist-packages (from fiona>=1.8.19->geopandas) (2023.7.22)\n",
            "Requirement already satisfied: click~=8.0 in /usr/local/lib/python3.10/dist-packages (from fiona>=1.8.19->geopandas) (8.1.7)\n",
            "Requirement already satisfied: click-plugins>=1.0 in /usr/local/lib/python3.10/dist-packages (from fiona>=1.8.19->geopandas) (1.1.1)\n",
            "Requirement already satisfied: cligj>=0.5 in /usr/local/lib/python3.10/dist-packages (from fiona>=1.8.19->geopandas) (0.7.2)\n",
            "Requirement already satisfied: six in /usr/local/lib/python3.10/dist-packages (from fiona>=1.8.19->geopandas) (1.16.0)\n",
            "Requirement already satisfied: python-dateutil>=2.8.1 in /usr/local/lib/python3.10/dist-packages (from pandas>=1.1.0->geopandas) (2.8.2)\n",
            "Requirement already satisfied: pytz>=2020.1 in /usr/local/lib/python3.10/dist-packages (from pandas>=1.1.0->geopandas) (2023.3.post1)\n",
            "Requirement already satisfied: numpy>=1.21.0 in /usr/local/lib/python3.10/dist-packages (from pandas>=1.1.0->geopandas) (1.23.5)\n",
            "Collecting rasterio\n",
            "  Downloading rasterio-1.3.8-cp310-cp310-manylinux_2_17_x86_64.manylinux2014_x86_64.whl (21.3 MB)\n",
            "\u001b[2K     \u001b[90m━━━━━━━━━━━━━━━━━━━━━━━━━━━━━━━━━━━━━━━━\u001b[0m \u001b[32m21.3/21.3 MB\u001b[0m \u001b[31m60.7 MB/s\u001b[0m eta \u001b[36m0:00:00\u001b[0m\n",
            "\u001b[?25hCollecting affine (from rasterio)\n",
            "  Downloading affine-2.4.0-py3-none-any.whl (15 kB)\n",
            "Requirement already satisfied: attrs in /usr/local/lib/python3.10/dist-packages (from rasterio) (23.1.0)\n",
            "Requirement already satisfied: certifi in /usr/local/lib/python3.10/dist-packages (from rasterio) (2023.7.22)\n",
            "Requirement already satisfied: click>=4.0 in /usr/local/lib/python3.10/dist-packages (from rasterio) (8.1.7)\n",
            "Requirement already satisfied: cligj>=0.5 in /usr/local/lib/python3.10/dist-packages (from rasterio) (0.7.2)\n",
            "Requirement already satisfied: numpy>=1.18 in /usr/local/lib/python3.10/dist-packages (from rasterio) (1.23.5)\n",
            "Collecting snuggs>=1.4.1 (from rasterio)\n",
            "  Downloading snuggs-1.4.7-py3-none-any.whl (5.4 kB)\n",
            "Requirement already satisfied: click-plugins in /usr/local/lib/python3.10/dist-packages (from rasterio) (1.1.1)\n",
            "Requirement already satisfied: setuptools in /usr/local/lib/python3.10/dist-packages (from rasterio) (67.7.2)\n",
            "Requirement already satisfied: pyparsing>=2.1.6 in /usr/local/lib/python3.10/dist-packages (from snuggs>=1.4.1->rasterio) (3.1.1)\n",
            "Installing collected packages: snuggs, affine, rasterio\n",
            "Successfully installed affine-2.4.0 rasterio-1.3.8 snuggs-1.4.7\n",
            "Collecting pyidw\n",
            "  Downloading pyidw-0.2.20.tar.gz (13 kB)\n",
            "  Preparing metadata (setup.py) ... \u001b[?25l\u001b[?25hdone\n",
            "Requirement already satisfied: numpy in /usr/local/lib/python3.10/dist-packages (from pyidw) (1.23.5)\n",
            "Requirement already satisfied: matplotlib in /usr/local/lib/python3.10/dist-packages (from pyidw) (3.7.1)\n",
            "Requirement already satisfied: pandas in /usr/local/lib/python3.10/dist-packages (from pyidw) (1.5.3)\n",
            "Requirement already satisfied: geopandas in /usr/local/lib/python3.10/dist-packages (from pyidw) (0.13.2)\n",
            "Requirement already satisfied: rasterio in /usr/local/lib/python3.10/dist-packages (from pyidw) (1.3.8)\n",
            "Requirement already satisfied: fiona in /usr/local/lib/python3.10/dist-packages (from pyidw) (1.9.4.post1)\n",
            "Collecting sklearn (from pyidw)\n",
            "  Downloading sklearn-0.0.post9.tar.gz (3.6 kB)\n",
            "  \u001b[1;31merror\u001b[0m: \u001b[1msubprocess-exited-with-error\u001b[0m\n",
            "  \n",
            "  \u001b[31m×\u001b[0m \u001b[32mpython setup.py egg_info\u001b[0m did not run successfully.\n",
            "  \u001b[31m│\u001b[0m exit code: \u001b[1;36m1\u001b[0m\n",
            "  \u001b[31m╰─>\u001b[0m See above for output.\n",
            "  \n",
            "  \u001b[1;35mnote\u001b[0m: This error originates from a subprocess, and is likely not a problem with pip.\n",
            "  Preparing metadata (setup.py) ... \u001b[?25l\u001b[?25herror\n",
            "\u001b[1;31merror\u001b[0m: \u001b[1mmetadata-generation-failed\u001b[0m\n",
            "\n",
            "\u001b[31m×\u001b[0m Encountered error while generating package metadata.\n",
            "\u001b[31m╰─>\u001b[0m See above for output.\n",
            "\n",
            "\u001b[1;35mnote\u001b[0m: This is an issue with the package mentioned above, not pip.\n",
            "\u001b[1;36mhint\u001b[0m: See above for details.\n"
          ]
        }
      ],
      "source": [
        "!pip install geopandas\n",
        "!pip install rasterio\n",
        "!pip install pyidw\n",
        "import geopandas as gpd\n",
        "import rasterio\n",
        "import matplotlib.pyplot as plt\n",
        "from shapely.geometry import Point\n",
        "import pandas as pd\n",
        "import numpy as np\n",
        "import fiona\n",
        "from sklearn.metrics import mean_squared_error\n",
        "import rasterio\n",
        "import rasterio.plot\n",
        "import rasterio.mask\n",
        "import glob\n",
        "from tqdm import tqdm\n",
        "import os\n",
        "from matplotlib.colors import Normalize\n",
        "from mpl_toolkits.axes_grid1 import make_axes_locatable\n",
        "import seaborn as sns\n",
        "from tqdm import tqdm"
      ]
    },
    {
      "cell_type": "code",
      "execution_count": null,
      "metadata": {
        "id": "Qk8WekV65ssz"
      },
      "outputs": [],
      "source": [
        "CM = ['ACCESS-CM2','ACCESS-ESM1-5','BCC-CSM2-MR','CanESM5','EC-Earth3','EC-Earth3-Veg','INM-CM4-8',\n",
        "      'INM-CM5-0','MPI-ESM1-2-HR','MPI-ESM1-2-LR','MRI-ESM2-0','NorESM2-LM','NorESM2-MM']\n",
        "#CM = ['ACCESS-CM2']\n",
        "\n",
        "scenario = ['historical','ssp126', 'ssp245', 'ssp370', 'ssp585']"
      ]
    },
    {
      "cell_type": "code",
      "execution_count": null,
      "metadata": {
        "colab": {
          "base_uri": "https://localhost:8080/"
        },
        "id": "EQ4kH-yvEoWw",
        "outputId": "5fe36a4f-4976-4807-dd6c-022ed41dbfc9"
      },
      "outputs": [
        {
          "output_type": "stream",
          "name": "stdout",
          "text": [
            "Station     object\n",
            "Lon        float64\n",
            "Lat        float64\n",
            "dtype: object\n"
          ]
        }
      ],
      "source": [
        "df = pd.read_csv('Location.csv')\n",
        "df['Station'] = df['Station'].astype(str)\n",
        "print(df.dtypes)"
      ]
    },
    {
      "cell_type": "code",
      "execution_count": null,
      "metadata": {
        "id": "E0P5ovbt3nLN",
        "colab": {
          "base_uri": "https://localhost:8080/"
        },
        "outputId": "c2351c92-6477-41ed-86ad-252a5303a5de"
      },
      "outputs": [
        {
          "output_type": "stream",
          "name": "stderr",
          "text": [
            "100%|██████████| 13/13 [32:16<00:00, 148.92s/it]\n"
          ]
        }
      ],
      "source": [
        "for i in tqdm(range(len(CM))):\n",
        "    historical_path = glob.glob('Computed_Indices/' + CM[i] + '/historical/' + '*.csv')\n",
        "    historical_files = sorted(historical_path, key=lambda path: os.path.basename(path))\n",
        "    for j in range(1, len(scenario)):\n",
        "        file_path = str(CM[i]) + '/' + str(scenario[j]) + '/'\n",
        "        scenario_files = glob.glob('Computed_Indices' + '/' + file_path + '*.csv')\n",
        "        scenario_files = sorted(scenario_files, key=lambda path: os.path.basename(path))\n",
        "        for historical_file, scenario_file in zip(historical_files, scenario_files):\n",
        "            historical_df = pd.read_csv(historical_file)\n",
        "            historical_df_transpose = historical_df.transpose()\n",
        "            col_names = historical_df_transpose.iloc[0].astype(int)\n",
        "            historical_df_transpose = historical_df_transpose[1:]\n",
        "            historical_df_transpose.columns = col_names\n",
        "            historical_df_transpose = historical_df_transpose.reset_index()\n",
        "            historical_df_transpose.rename(columns={'index': 'Station'}, inplace=True)\n",
        "            scenario_df = pd.read_csv(scenario_file)\n",
        "            scenario_df_transpose = scenario_df.transpose()\n",
        "            col_names = scenario_df_transpose.iloc[0].astype(int)\n",
        "            scenario_df_transpose = scenario_df_transpose[1:]\n",
        "            scenario_df_transpose.columns = col_names\n",
        "            scenario_df_transpose = scenario_df_transpose.reset_index()\n",
        "            scenario_df_transpose.rename(columns={'index': 'Station'}, inplace=True)\n",
        "            merged_df = pd.merge(historical_df_transpose, scenario_df_transpose, on = 'Station')\n",
        "            merged_df['1985-2014'] = np.ceil(merged_df.iloc[:, 35:65].mean(axis=1))\n",
        "            merged_df['2026-2055'] = np.ceil(merged_df.iloc[:, 76:106].mean(axis=1))\n",
        "            merged_df['2071-2100'] = np.ceil(merged_df.iloc[:, 121:151].mean(axis=1))\n",
        "            merged_df['Deviation_NF'] =  merged_df['2026-2055'] - merged_df['1985-2014']\n",
        "            merged_df['Deviation_FF'] =  merged_df['2071-2100'] - merged_df['1985-2014']\n",
        "            merged_df.to_csv('Database/' + scenario_file[17:], index = False)\n"
      ]
    },
    {
      "cell_type": "code",
      "source": [
        "CM_dict = {}\n",
        "for c in tqdm(range(0,len(CM))):\n",
        "    CM_dict[CM[c]] = {}\n",
        "    for s in range(1,len(scenario)):\n",
        "        ssp_dict = {}\n",
        "        CM_dict[CM[c]][scenario[s]] = ssp_dict\n",
        "        file_path = str(CM[c]) + '/' + str(scenario[s]) + '/'\n",
        "        indices_files = glob.glob('Database' + '/' + file_path + '*.csv')\n",
        "        for i in range(0, len(indices_files)):\n",
        "            indices = pd.read_csv(indices_files[i])\n",
        "            # Extract the filename without the extension and use it as the key\n",
        "            base_name = os.path.basename(indices_files[i])\n",
        "            indice_name = os.path.splitext(base_name)[0]\n",
        "            #print(indice_name)\n",
        "            ssp_dict[indice_name] = indices\n",
        "\n",
        "# Now you can access the data using the nested dictionary structure\n",
        "# For example: CM_dict['ACCESS-CM2']['ssp126']['DTR']"
      ],
      "metadata": {
        "colab": {
          "base_uri": "https://localhost:8080/"
        },
        "id": "d-LceKF4PbVq",
        "outputId": "01cabc01-699e-4f37-e14b-8f9eefcfb554"
      },
      "execution_count": null,
      "outputs": [
        {
          "output_type": "stream",
          "name": "stderr",
          "text": [
            "100%|██████████| 13/13 [00:35<00:00,  2.71s/it]\n"
          ]
        }
      ]
    },
    {
      "cell_type": "code",
      "source": [
        "indices = list(CM_dict['ACCESS-CM2']['ssp126'].keys())\n",
        "#indices = ['SU']\n",
        "for i in tqdm(range(0, len(indices))):\n",
        "  for s in range(1, len(scenario)):\n",
        "    dfs = []\n",
        "    for c in range(0, len(CM)):\n",
        "      data = CM_dict[CM[c]][scenario[s]][indices[i]]\n",
        "      dfs.append(data)\n",
        "\n",
        "      #Stores all the dataframe in dfs as numpy array in the form of list\n",
        "      arrays = [df.to_numpy() for df in dfs]\n",
        "\n",
        "      # Now a columnwise database is made all the first column is stored as new array /Stack the arrays along a new axis (axis=0)\n",
        "      stacked_arrays = np.stack(arrays, axis=0) #look more into np.stack\n",
        "\n",
        "      # Calculate the median along the first axis (axis=0) to get median for each cell\n",
        "      median_array = np.median(stacked_arrays, axis=0)\n",
        "\n",
        "      # Convert the median array back to a DataFrame\n",
        "      median_df = pd.DataFrame(median_array, columns=dfs[0].columns)\n",
        "      median_df['1985-2014'] = np.ceil(median_df.iloc[:, 35:65].mean(axis=1))\n",
        "      median_df['2026-2055'] = np.ceil(median_df.iloc[:, 76:106].mean(axis=1))\n",
        "      median_df['2071-2100'] = np.ceil(median_df.iloc[:, 121:151].mean(axis=1))\n",
        "      median_df['Deviation_NF'] = median_df['2026-2055'] - median_df['1985-2014']\n",
        "      median_df['Deviation_FF'] = median_df['2071-2100'] - median_df['1985-2014']\n",
        "      median_df.to_csv('Database/' + 'Ensemble_median/' + scenario[s] + '/' + indices[i] + '.csv', index = False)"
      ],
      "metadata": {
        "colab": {
          "base_uri": "https://localhost:8080/"
        },
        "id": "niYuK1_0aa8r",
        "outputId": "77bd686b-58a2-43a3-a1ad-41eadb297c29"
      },
      "execution_count": null,
      "outputs": [
        {
          "output_type": "stream",
          "name": "stderr",
          "text": [
            "100%|██████████| 30/30 [02:32<00:00,  5.07s/it]\n"
          ]
        }
      ]
    }
  ],
  "metadata": {
    "colab": {
      "provenance": [],
      "authorship_tag": "ABX9TyM8jwgtrRisCyWtRWCsDLJU",
      "include_colab_link": true
    },
    "kernelspec": {
      "display_name": "Python 3",
      "name": "python3"
    },
    "language_info": {
      "name": "python"
    }
  },
  "nbformat": 4,
  "nbformat_minor": 0
}